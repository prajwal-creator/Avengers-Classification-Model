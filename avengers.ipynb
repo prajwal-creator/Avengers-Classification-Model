{
 "cells": [
  {
   "cell_type": "markdown",
   "metadata": {},
   "source": [
    "# Image Classification using Convolutional Neural Networks in PyTorch"
   ]
  },
  {
   "cell_type": "code",
   "execution_count": 1,
   "metadata": {},
   "outputs": [],
   "source": [
    "# Uncomment and run the commands below if imports fail\n",
    "# !conda install numpy pandas pytorch torchvision cpuonly -c pytorch -y\n",
    "# !pip install matplotlib --upgrade --quiet"
   ]
  },
  {
   "cell_type": "code",
   "execution_count": 2,
   "metadata": {},
   "outputs": [],
   "source": [
    "import os\n",
    "import torch\n",
    "import torchvision\n",
    "import tarfile\n",
    "from torch.utils.data import random_split"
   ]
  },
  {
   "cell_type": "code",
   "execution_count": 3,
   "metadata": {},
   "outputs": [
    {
     "name": "stdout",
     "output_type": "stream",
     "text": [
      "['test', 'train']\n",
      "['captainamerica', 'antman', 'doctorstrange', 'hulk', 'thor', 'blackpanther', 'blackwidow', 'ironman', 'captainmarvel', 'spiderman']\n"
     ]
    }
   ],
   "source": [
    "data_dir = '../input/avengers/dataset'\n",
    "\n",
    "print(os.listdir(data_dir))\n",
    "classes = os.listdir(data_dir + \"/train\")\n",
    "print(classes)"
   ]
  },
  {
   "cell_type": "code",
   "execution_count": 4,
   "metadata": {},
   "outputs": [
    {
     "name": "stdout",
     "output_type": "stream",
     "text": [
      "No. of training examples for antman: 450\n",
      "['208.JPG', '333.JPG', '45.JPG', '369.JPG', '56.JPG']\n"
     ]
    }
   ],
   "source": [
    "antman_files = os.listdir(data_dir + \"/train/antman\")\n",
    "print('No. of training examples for antman:', len(antman_files))\n",
    "print(antman_files[:5])"
   ]
  },
  {
   "cell_type": "code",
   "execution_count": 5,
   "metadata": {},
   "outputs": [
    {
     "name": "stdout",
     "output_type": "stream",
     "text": [
      "No. of test examples for ship: 50\n",
      "['45.JPG', '20.JPG', '6.JPG', '5.JPG', '8.JPG']\n"
     ]
    }
   ],
   "source": [
    "thor_files = os.listdir(data_dir + \"/test/thor\")\n",
    "print(\"No. of test examples for ship:\", len(thor_files))\n",
    "print(thor_files[:5])"
   ]
  },
  {
   "cell_type": "code",
   "execution_count": 6,
   "metadata": {},
   "outputs": [],
   "source": [
    "from torchvision.datasets import ImageFolder\n",
    "from torchvision.transforms import ToTensor"
   ]
  },
  {
   "cell_type": "code",
   "execution_count": 7,
   "metadata": {},
   "outputs": [],
   "source": [
    "dataset = ImageFolder(data_dir+'/train', transform=ToTensor())"
   ]
  },
  {
   "cell_type": "code",
   "execution_count": 8,
   "metadata": {},
   "outputs": [
    {
     "name": "stdout",
     "output_type": "stream",
     "text": [
      "torch.Size([3, 64, 64]) 1\n"
     ]
    },
    {
     "data": {
      "text/plain": [
       "tensor([[[0.9804, 1.0000, 0.9961,  ..., 1.0000, 1.0000, 1.0000],\n",
       "         [1.0000, 1.0000, 1.0000,  ..., 1.0000, 1.0000, 1.0000],\n",
       "         [1.0000, 1.0000, 1.0000,  ..., 1.0000, 1.0000, 1.0000],\n",
       "         ...,\n",
       "         [0.9843, 1.0000, 0.9961,  ..., 1.0000, 0.9804, 0.9882],\n",
       "         [1.0000, 1.0000, 0.9843,  ..., 0.9647, 0.9412, 1.0000],\n",
       "         [1.0000, 1.0000, 0.9765,  ..., 0.7294, 1.0000, 0.9529]],\n",
       "\n",
       "        [[0.9804, 1.0000, 0.9961,  ..., 1.0000, 1.0000, 1.0000],\n",
       "         [1.0000, 1.0000, 1.0000,  ..., 1.0000, 1.0000, 1.0000],\n",
       "         [1.0000, 1.0000, 1.0000,  ..., 1.0000, 1.0000, 1.0000],\n",
       "         ...,\n",
       "         [0.9843, 1.0000, 0.9961,  ..., 1.0000, 0.9804, 0.9882],\n",
       "         [1.0000, 1.0000, 0.9843,  ..., 0.9647, 0.9412, 1.0000],\n",
       "         [1.0000, 1.0000, 0.9765,  ..., 0.7294, 1.0000, 0.9529]],\n",
       "\n",
       "        [[0.9804, 1.0000, 0.9961,  ..., 1.0000, 1.0000, 1.0000],\n",
       "         [1.0000, 1.0000, 1.0000,  ..., 1.0000, 1.0000, 1.0000],\n",
       "         [1.0000, 1.0000, 1.0000,  ..., 1.0000, 1.0000, 1.0000],\n",
       "         ...,\n",
       "         [0.9843, 1.0000, 0.9961,  ..., 1.0000, 0.9804, 0.9882],\n",
       "         [1.0000, 1.0000, 0.9843,  ..., 0.9647, 0.9412, 1.0000],\n",
       "         [1.0000, 1.0000, 0.9765,  ..., 0.7294, 1.0000, 0.9529]]])"
      ]
     },
     "execution_count": 8,
     "metadata": {},
     "output_type": "execute_result"
    }
   ],
   "source": [
    "img, label = dataset[786]\n",
    "print(img.shape, label)\n",
    "img"
   ]
  },
  {
   "cell_type": "code",
   "execution_count": 9,
   "metadata": {},
   "outputs": [
    {
     "name": "stdout",
     "output_type": "stream",
     "text": [
      "['antman', 'blackpanther', 'blackwidow', 'captainamerica', 'captainmarvel', 'doctorstrange', 'hulk', 'ironman', 'spiderman', 'thor']\n"
     ]
    }
   ],
   "source": [
    "print(dataset.classes)"
   ]
  },
  {
   "cell_type": "code",
   "execution_count": 10,
   "metadata": {},
   "outputs": [],
   "source": [
    "import matplotlib.pyplot as plt\n",
    "\n",
    "def show_example(img, label):\n",
    "    print('Label: ', dataset.classes[label], \"(\"+str(label)+\")\")\n",
    "    plt.imshow(img.permute(1, 2, 0))"
   ]
  },
  {
   "cell_type": "code",
   "execution_count": 11,
   "metadata": {},
   "outputs": [
    {
     "name": "stdout",
     "output_type": "stream",
     "text": [
      "Label:  antman (0)\n"
     ]
    },
    {
     "data": {
      "image/png": "[encoded data removed]",
      "text/plain": [
       "<Figure size 432x288 with 1 Axes>"
      ]
     },
     "metadata": {
      "needs_background": "light"
     },
     "output_type": "display_data"
    }
   ],
   "source": [
    "show_example(*dataset[5])"
   ]
  },
  {
   "cell_type": "code",
   "execution_count": 12,
   "metadata": {},
   "outputs": [
    {
     "name": "stdout",
     "output_type": "stream",
     "text": [
      "Label:  blackwidow (2)\n"
     ]
    },
    {
     "data": {
      "image/png": "[encoded data removed]",
      "text/plain": [
       "<Figure size 432x288 with 1 Axes>"
      ]
     },
     "metadata": {
      "needs_background": "light"
     },
     "output_type": "display_data"
    }
   ],
   "source": [
    "show_example(*dataset[1099])"
   ]
  },
  {
   "cell_type": "code",
   "execution_count": 13,
   "metadata": {},
   "outputs": [
    {
     "name": "stdout",
     "output_type": "stream",
     "text": [
      "Label:  doctorstrange (5)\n"
     ]
    },
    {
     "data": {
      "image/png": "[encoded data removed]",
      "text/plain": [
       "<Figure size 432x288 with 1 Axes>"
      ]
     },
     "metadata": {
      "needs_background": "light"
     },
     "output_type": "display_data"
    }
   ],
   "source": [
    "show_example(*dataset[2525])"
   ]
  },
  {
   "cell_type": "code",
   "execution_count": 14,
   "metadata": {},
   "outputs": [],
   "source": [
    "!pip install jovian --upgrade -q"
   ]
  },
  {
   "cell_type": "code",
   "execution_count": 15,
   "metadata": {},
   "outputs": [
    {
     "data": {
      "application/javascript": [
       "if (window.IPython && IPython.notebook.kernel) IPython.notebook.kernel.execute('jovian.utils.jupyter.get_notebook_name_saved = lambda: \"' + IPython.notebook.notebook_name + '\"')"
      ],
      "text/plain": [
       "<IPython.core.display.Javascript object>"
      ]
     },
     "metadata": {},
     "output_type": "display_data"
    }
   ],
   "source": [
    "import jovian"
   ]
  },
  {
   "cell_type": "code",
   "execution_count": null,
   "metadata": {},
   "outputs": [],
   "source": [
    "jovian.commit(project='avengers')"
   ]
  },
  {
   "cell_type": "code",
   "execution_count": 16,
   "metadata": {},
   "outputs": [],
   "source": [
    "random_seed = 42\n",
    "torch.manual_seed(random_seed);"
   ]
  },
  {
   "cell_type": "code",
   "execution_count": 17,
   "metadata": {},
   "outputs": [
    {
     "data": {
      "text/plain": [
       "(4000, 500)"
      ]
     },
     "execution_count": 17,
     "metadata": {},
     "output_type": "execute_result"
    }
   ],
   "source": [
    "val_size = 500\n",
    "train_size = len(dataset) - val_size\n",
    "\n",
    "train_ds, val_ds = random_split(dataset, [train_size, val_size])\n",
    "len(train_ds), len(val_ds)"
   ]
  },
  {
   "cell_type": "code",
   "execution_count": 18,
   "metadata": {},
   "outputs": [
    {
     "name": "stdout",
     "output_type": "stream",
     "text": [
      "[jovian] Please enter your API key ( from https://jovian.ai/ ):\u001b[0m\n",
      "API KEY: ········\n",
      "[jovian] Dataset logged.\u001b[0m\n"
     ]
    }
   ],
   "source": [
    "jovian.log_dataset(val_size=500, random_seed=42)"
   ]
  },
  {
   "cell_type": "code",
   "execution_count": 19,
   "metadata": {},
   "outputs": [],
   "source": [
    "from torch.utils.data.dataloader import DataLoader\n",
    "\n",
    "batch_size=16"
   ]
  },
  {
   "cell_type": "code",
   "execution_count": 20,
   "metadata": {},
   "outputs": [],
   "source": [
    "train_dl = DataLoader(train_ds, batch_size, shuffle=True, num_workers=4, pin_memory=True)\n",
    "val_dl = DataLoader(val_ds, batch_size*2, num_workers=4, pin_memory=True)"
   ]
  },
  {
   "cell_type": "code",
   "execution_count": 21,
   "metadata": {},
   "outputs": [],
   "source": [
    "from torchvision.utils import make_grid\n",
    "\n",
    "def show_batch(dl):\n",
    "    for images, labels in dl:\n",
    "        fig, ax = plt.subplots(figsize=(12, 6))\n",
    "        ax.set_xticks([]); ax.set_yticks([])\n",
    "        ax.imshow(make_grid(images, nrow=16).permute(1, 2, 0))\n",
    "        break"
   ]
  },
  {
   "cell_type": "code",
   "execution_count": 22,
   "metadata": {},
   "outputs": [
    {
     "data": {
      "image/png": "[encoded data removed]",
      "text/plain": [
       "<Figure size 864x432 with 1 Axes>"
      ]
     },
     "metadata": {},
     "output_type": "display_data"
    }
   ],
   "source": [
    "show_batch(train_dl)"
   ]
  },
  {
   "cell_type": "code",
   "execution_count": 23,
   "metadata": {},
   "outputs": [
    {
     "data": {
      "application/javascript": [
       "window.require && require([\"base/js/namespace\"],function(Jupyter){Jupyter.notebook.save_checkpoint()})"
      ],
      "text/plain": [
       "<IPython.core.display.Javascript object>"
      ]
     },
     "metadata": {},
     "output_type": "display_data"
    },
    {
     "name": "stdout",
     "output_type": "stream",
     "text": [
      "[jovian] Attempting to save notebook..\u001b[0m\n",
      "[jovian] Detected Kaggle notebook...\u001b[0m\n",
      "[jovian] Uploading notebook to https://jovian.ai/prajwal-creator/avengers\u001b[0m\n"
     ]
    },
    {
     "data": {
      "application/javascript": [
       "\n",
       "    require([\"base/js/namespace\"],function(Jupyter) {\n",
       "        var nbJson = JSON.stringify(Jupyter.notebook.toJSON());\n",
       "\n",
       "        console.log(\"[jovian] Extracted notebook JSON:\");\n",
       "        console.log(nbJson);\n",
       "\n",
       "        function jvnLog (data) {\n",
       "          console.log(\"Result from jovian.commit:\");\n",
       "          if (data.content.text) {\n",
       "              var result = JSON.parse(data.content.text.trim());\n",
       "              var msg = result['msg'];\n",
       "              var err = result['err'];\n",
       "              if (msg) {\n",
       "                  element.text(\"Committed successfully: \" + msg)\n",
       "              } else {\n",
       "                  alert(\"Notebook commit failed. Error: \" + (err || \"Unknown\"))\n",
       "              }\n",
       "          }\n",
       "          \n",
       "        };\n",
       "        \n",
       "        var pythonCode = `\n",
       "from contextlib import redirect_stdout, redirect_stderr\n",
       "from io import StringIO\n",
       "import json\n",
       " \n",
       "with open(\"avengers.ipynb\", 'w') as f:\n",
       "    f.write(r\"\"\"${nbJson}\"\"\")\n",
       "\n",
       "jvn_update = StringIO()\n",
       "jvn_update_err = StringIO()\n",
       "with redirect_stdout(jvn_update), redirect_stderr(jvn_update_err):\n",
       "    from jovian import commit\n",
       "\n",
       "jvn_f_out = StringIO()\n",
       "jvn_f_err = StringIO()\n",
       "with redirect_stdout(jvn_f_out), redirect_stderr(jvn_f_err):\n",
       "    jvn_msg = jovian.commit(message=None, files=[], outputs=[], environment=None, privacy='auto', filename='avengers.ipynb', project='avengers', new_project=None)\n",
       "\n",
       "print(json.dumps({'msg': jvn_msg, 'err': jvn_f_err.getvalue(), 'update': jvn_update.getvalue()}))\n",
       "        `;\n",
       "\n",
       "        console.log(\"Invoking jovian.commit\")\n",
       "        // console.log(pythonCode)\n",
       "\n",
       "        Jupyter.notebook.kernel.execute(pythonCode, { iopub: { output: jvnLog }});\n",
       "    });"
      ],
      "text/plain": [
       "<IPython.core.display.Javascript object>"
      ]
     },
     "metadata": {},
     "output_type": "display_data"
    }
   ],
   "source": [
    "jovian.commit(project='avengers', environment=None)"
   ]
  },
  {
   "cell_type": "code",
   "execution_count": 24,
   "metadata": {},
   "outputs": [],
   "source": [
    "def apply_kernel(image, kernel):\n",
    "    ri, ci = image.shape       # image dimensions\n",
    "    rk, ck = kernel.shape      # kernel dimensions\n",
    "    ro, co = ri-rk+1, ci-ck+1  # output dimensions\n",
    "    output = torch.zeros([ro, co])\n",
    "    for i in range(ro): \n",
    "        for j in range(co):\n",
    "            output[i,j] = torch.sum(image[i:i+rk,j:j+ck] * kernel)\n",
    "    return output"
   ]
  },
  {
   "cell_type": "code",
   "execution_count": 25,
   "metadata": {},
   "outputs": [
    {
     "data": {
      "text/plain": [
       "tensor([[12., 12., 17.],\n",
       "        [10., 17., 19.],\n",
       "        [ 9.,  6., 14.]])"
      ]
     },
     "execution_count": 25,
     "metadata": {},
     "output_type": "execute_result"
    }
   ],
   "source": [
    "sample_image = torch.tensor([\n",
    "    [3, 3, 2, 1, 0], \n",
    "    [0, 0, 1, 3, 1], \n",
    "    [3, 1, 2, 2, 3], \n",
    "    [2, 0, 0, 2, 2], \n",
    "    [2, 0, 0, 0, 1]\n",
    "], dtype=torch.float32)\n",
    "\n",
    "sample_kernel = torch.tensor([\n",
    "    [0, 1, 2], \n",
    "    [2, 2, 0], \n",
    "    [0, 1, 2]\n",
    "], dtype=torch.float32)\n",
    "\n",
    "apply_kernel(sample_image, sample_kernel)"
   ]
  },
  {
   "cell_type": "code",
   "execution_count": 26,
   "metadata": {},
   "outputs": [],
   "source": [
    "import torch.nn as nn\n",
    "import torch.nn.functional as F"
   ]
  },
  {
   "cell_type": "code",
   "execution_count": 27,
   "metadata": {},
   "outputs": [],
   "source": [
    "simple_model = nn.Sequential(\n",
    "    nn.Conv2d(3, 8, kernel_size=3, stride=1, padding=1),\n",
    "    nn.MaxPool2d(2, 2)\n",
    ")"
   ]
  },
  {
   "cell_type": "code",
   "execution_count": 28,
   "metadata": {},
   "outputs": [
    {
     "name": "stdout",
     "output_type": "stream",
     "text": [
      "images.shape: torch.Size([16, 3, 64, 64])\n",
      "out.shape: torch.Size([16, 8, 32, 32])\n"
     ]
    }
   ],
   "source": [
    "for images, labels in train_dl:\n",
    "    print('images.shape:', images.shape)\n",
    "    out = simple_model(images)\n",
    "    print('out.shape:', out.shape)\n",
    "    break"
   ]
  },
  {
   "cell_type": "code",
   "execution_count": 29,
   "metadata": {},
   "outputs": [],
   "source": [
    "def accuracy(outputs, labels):\n",
    "    _, preds = torch.max(outputs, dim=1)\n",
    "    return torch.tensor(torch.sum(preds == labels).item() / len(preds))\n",
    "\n",
    "class ImageClassificationBase(nn.Module):\n",
    "    def training_step(self, batch):\n",
    "        images, labels = batch \n",
    "        out = self(images)                  # Generate predictions\n",
    "        loss = F.cross_entropy(out, labels) # Calculate loss\n",
    "        return loss\n",
    "    \n",
    "    def validation_step(self, batch):\n",
    "        images, labels = batch \n",
    "        out = self(images)                    # Generate predictions\n",
    "        loss = F.cross_entropy(out, labels)   # Calculate loss\n",
    "        acc = accuracy(out, labels)           # Calculate accuracy\n",
    "        return {'val_loss': loss.detach(), 'val_acc': acc}\n",
    "        \n",
    "    def validation_epoch_end(self, outputs):\n",
    "        batch_losses = [x['val_loss'] for x in outputs]\n",
    "        epoch_loss = torch.stack(batch_losses).mean()   # Combine losses\n",
    "        batch_accs = [x['val_acc'] for x in outputs]\n",
    "        epoch_acc = torch.stack(batch_accs).mean()      # Combine accuracies\n",
    "        return {'val_loss': epoch_loss.item(), 'val_acc': epoch_acc.item()}\n",
    "    \n",
    "    def epoch_end(self, epoch, result):\n",
    "        print(\"Epoch [{}], train_loss: {:.4f}, val_loss: {:.4f}, val_acc: {:.4f}\".format(\n",
    "            epoch, result['train_loss'], result['val_loss'], result['val_acc']))"
   ]
  },
  {
   "cell_type": "code",
   "execution_count": 30,
   "metadata": {},
   "outputs": [],
   "source": [
    "class Cifar10CnnModel(ImageClassificationBase):\n",
    "    def __init__(self):\n",
    "        super().__init__()\n",
    "        self.network = nn.Sequential(\n",
    "            nn.Conv2d(3, 32, kernel_size=3, padding=1),\n",
    "            nn.ReLU(),\n",
    "            nn.Conv2d(32, 64, kernel_size=3, stride=1, padding=1),\n",
    "            nn.ReLU(),\n",
    "            nn.MaxPool2d(2, 2), \n",
    "\n",
    "            nn.Conv2d(64, 128, kernel_size=3, stride=1, padding=1),\n",
    "            nn.ReLU(),\n",
    "            nn.Conv2d(128, 128, kernel_size=3, stride=1, padding=1),\n",
    "            nn.ReLU(),\n",
    "            nn.MaxPool2d(2, 2),\n",
    "\n",
    "            nn.Conv2d(128, 256, kernel_size=3, stride=1, padding=1),\n",
    "            nn.ReLU(),\n",
    "            nn.Conv2d(256, 256, kernel_size=3, stride=1, padding=1),\n",
    "            nn.ReLU(),\n",
    "            nn.MaxPool2d(2, 2),\n",
    "            \n",
    "            nn.Conv2d(256, 512, kernel_size=3, stride=1, padding=1),\n",
    "            nn.ReLU(),\n",
    "            nn.Conv2d(512, 512, kernel_size=3, stride=1, padding=1),\n",
    "            nn.ReLU(),\n",
    "            nn.MaxPool2d(2, 2),\n",
    "\n",
    "            nn.Flatten(), \n",
    "            nn.Linear(512*4*4, 1024),\n",
    "            nn.ReLU(),\n",
    "            nn.Linear(1024, 512),\n",
    "            nn.ReLU(),\n",
    "            nn.Linear(512, 10))\n",
    "        \n",
    "    def forward(self, xb):\n",
    "        return self.network(xb)"
   ]
  },
  {
   "cell_type": "code",
   "execution_count": 31,
   "metadata": {},
   "outputs": [
    {
     "data": {
      "text/plain": [
       "Cifar10CnnModel(\n",
       "  (network): Sequential(\n",
       "    (0): Conv2d(3, 32, kernel_size=(3, 3), stride=(1, 1), padding=(1, 1))\n",
       "    (1): ReLU()\n",
       "    (2): Conv2d(32, 64, kernel_size=(3, 3), stride=(1, 1), padding=(1, 1))\n",
       "    (3): ReLU()\n",
       "    (4): MaxPool2d(kernel_size=2, stride=2, padding=0, dilation=1, ceil_mode=False)\n",
       "    (5): Conv2d(64, 128, kernel_size=(3, 3), stride=(1, 1), padding=(1, 1))\n",
       "    (6): ReLU()\n",
       "    (7): Conv2d(128, 128, kernel_size=(3, 3), stride=(1, 1), padding=(1, 1))\n",
       "    (8): ReLU()\n",
       "    (9): MaxPool2d(kernel_size=2, stride=2, padding=0, dilation=1, ceil_mode=False)\n",
       "    (10): Conv2d(128, 256, kernel_size=(3, 3), stride=(1, 1), padding=(1, 1))\n",
       "    (11): ReLU()\n",
       "    (12): Conv2d(256, 256, kernel_size=(3, 3), stride=(1, 1), padding=(1, 1))\n",
       "    (13): ReLU()\n",
       "    (14): MaxPool2d(kernel_size=2, stride=2, padding=0, dilation=1, ceil_mode=False)\n",
       "    (15): Conv2d(256, 512, kernel_size=(3, 3), stride=(1, 1), padding=(1, 1))\n",
       "    (16): ReLU()\n",
       "    (17): Conv2d(512, 512, kernel_size=(3, 3), stride=(1, 1), padding=(1, 1))\n",
       "    (18): ReLU()\n",
       "    (19): MaxPool2d(kernel_size=2, stride=2, padding=0, dilation=1, ceil_mode=False)\n",
       "    (20): Flatten(start_dim=1, end_dim=-1)\n",
       "    (21): Linear(in_features=8192, out_features=1024, bias=True)\n",
       "    (22): ReLU()\n",
       "    (23): Linear(in_features=1024, out_features=512, bias=True)\n",
       "    (24): ReLU()\n",
       "    (25): Linear(in_features=512, out_features=10, bias=True)\n",
       "  )\n",
       ")"
      ]
     },
     "execution_count": 31,
     "metadata": {},
     "output_type": "execute_result"
    }
   ],
   "source": [
    "model = Cifar10CnnModel()\n",
    "model"
   ]
  },
  {
   "cell_type": "code",
   "execution_count": 32,
   "metadata": {},
   "outputs": [
    {
     "name": "stdout",
     "output_type": "stream",
     "text": [
      "images.shape: torch.Size([16, 3, 64, 64])\n",
      "out.shape: torch.Size([16, 10])\n",
      "out[0]: tensor([ 0.0287, -0.0333,  0.0541, -0.0360,  0.0379, -0.0086, -0.0056,  0.0131,\n",
      "        -0.0153, -0.0451], grad_fn=<SelectBackward>)\n"
     ]
    }
   ],
   "source": [
    "for images, labels in train_dl:\n",
    "    print('images.shape:', images.shape)\n",
    "    out = model(images)\n",
    "    print('out.shape:', out.shape)\n",
    "    print('out[0]:', out[0])\n",
    "    break"
   ]
  },
  {
   "cell_type": "code",
   "execution_count": 33,
   "metadata": {},
   "outputs": [],
   "source": [
    "def get_default_device():\n",
    "    \"\"\"Pick GPU if available, else CPU\"\"\"\n",
    "    if torch.cuda.is_available():\n",
    "        return torch.device('cuda')\n",
    "    else:\n",
    "        return torch.device('cpu')\n",
    "    \n",
    "def to_device(data, device):\n",
    "    \"\"\"Move tensor(s) to chosen device\"\"\"\n",
    "    if isinstance(data, (list,tuple)):\n",
    "        return [to_device(x, device) for x in data]\n",
    "    return data.to(device, non_blocking=True)\n",
    "\n",
    "class DeviceDataLoader():\n",
    "    \"\"\"Wrap a dataloader to move data to a device\"\"\"\n",
    "    def __init__(self, dl, device):\n",
    "        self.dl = dl\n",
    "        self.device = device\n",
    "        \n",
    "    def __iter__(self):\n",
    "        \"\"\"Yield a batch of data after moving it to device\"\"\"\n",
    "        for b in self.dl: \n",
    "            yield to_device(b, self.device)\n",
    "\n",
    "    def __len__(self):\n",
    "        \"\"\"Number of batches\"\"\"\n",
    "        return len(self.dl)"
   ]
  },
  {
   "cell_type": "code",
   "execution_count": 34,
   "metadata": {},
   "outputs": [
    {
     "data": {
      "text/plain": [
       "device(type='cuda')"
      ]
     },
     "execution_count": 34,
     "metadata": {},
     "output_type": "execute_result"
    }
   ],
   "source": [
    "device = get_default_device()\n",
    "device"
   ]
  },
  {
   "cell_type": "code",
   "execution_count": 35,
   "metadata": {},
   "outputs": [],
   "source": [
    "train_dl = DeviceDataLoader(train_dl, device)\n",
    "val_dl = DeviceDataLoader(val_dl, device)\n",
    "to_device(model, device);"
   ]
  },
  {
   "cell_type": "code",
   "execution_count": 36,
   "metadata": {},
   "outputs": [
    {
     "data": {
      "application/javascript": [
       "window.require && require([\"base/js/namespace\"],function(Jupyter){Jupyter.notebook.save_checkpoint()})"
      ],
      "text/plain": [
       "<IPython.core.display.Javascript object>"
      ]
     },
     "metadata": {},
     "output_type": "display_data"
    },
    {
     "name": "stdout",
     "output_type": "stream",
     "text": [
      "[jovian] Attempting to save notebook..\u001b[0m\n",
      "[jovian] Detected Kaggle notebook...\u001b[0m\n",
      "[jovian] Uploading notebook to https://jovian.ai/prajwal-creator/avengers\u001b[0m\n"
     ]
    },
    {
     "data": {
      "application/javascript": [
       "\n",
       "    require([\"base/js/namespace\"],function(Jupyter) {\n",
       "        var nbJson = JSON.stringify(Jupyter.notebook.toJSON());\n",
       "\n",
       "        console.log(\"[jovian] Extracted notebook JSON:\");\n",
       "        console.log(nbJson);\n",
       "\n",
       "        function jvnLog (data) {\n",
       "          console.log(\"Result from jovian.commit:\");\n",
       "          if (data.content.text) {\n",
       "              var result = JSON.parse(data.content.text.trim());\n",
       "              var msg = result['msg'];\n",
       "              var err = result['err'];\n",
       "              if (msg) {\n",
       "                  element.text(\"Committed successfully: \" + msg)\n",
       "              } else {\n",
       "                  alert(\"Notebook commit failed. Error: \" + (err || \"Unknown\"))\n",
       "              }\n",
       "          }\n",
       "          \n",
       "        };\n",
       "        \n",
       "        var pythonCode = `\n",
       "from contextlib import redirect_stdout, redirect_stderr\n",
       "from io import StringIO\n",
       "import json\n",
       " \n",
       "with open(\"avengers.ipynb\", 'w') as f:\n",
       "    f.write(r\"\"\"${nbJson}\"\"\")\n",
       "\n",
       "jvn_update = StringIO()\n",
       "jvn_update_err = StringIO()\n",
       "with redirect_stdout(jvn_update), redirect_stderr(jvn_update_err):\n",
       "    from jovian import commit\n",
       "\n",
       "jvn_f_out = StringIO()\n",
       "jvn_f_err = StringIO()\n",
       "with redirect_stdout(jvn_f_out), redirect_stderr(jvn_f_err):\n",
       "    jvn_msg = jovian.commit(message=None, files=[], outputs=[], environment='auto', privacy='auto', filename='avengers.ipynb', project='avengers', new_project=None)\n",
       "\n",
       "print(json.dumps({'msg': jvn_msg, 'err': jvn_f_err.getvalue(), 'update': jvn_update.getvalue()}))\n",
       "        `;\n",
       "\n",
       "        console.log(\"Invoking jovian.commit\")\n",
       "        // console.log(pythonCode)\n",
       "\n",
       "        Jupyter.notebook.kernel.execute(pythonCode, { iopub: { output: jvnLog }});\n",
       "    });"
      ],
      "text/plain": [
       "<IPython.core.display.Javascript object>"
      ]
     },
     "metadata": {},
     "output_type": "display_data"
    }
   ],
   "source": [
    "jovian.commit(project='avengers')"
   ]
  },
  {
   "cell_type": "markdown",
   "metadata": {},
   "source": [
    "## Training the Model\n",
    "\n",
    "We can use the exact same `fit` and `evaluate` functions as defined in the previous tutorials."
   ]
  },
  {
   "cell_type": "code",
   "execution_count": 37,
   "metadata": {},
   "outputs": [],
   "source": [
    "@torch.no_grad()\n",
    "def evaluate(model, val_loader):\n",
    "    model.eval()\n",
    "    outputs = [model.validation_step(batch) for batch in val_loader]\n",
    "    return model.validation_epoch_end(outputs)\n",
    "\n",
    "def fit(epochs, lr, model, train_loader, val_loader, opt_func=torch.optim.SGD):\n",
    "    history = []\n",
    "    optimizer = opt_func(model.parameters(), lr)\n",
    "    for epoch in range(epochs):\n",
    "        # Training Phase \n",
    "        model.train()\n",
    "        train_losses = []\n",
    "        for batch in train_loader:\n",
    "            loss = model.training_step(batch)\n",
    "            train_losses.append(loss)\n",
    "            loss.backward()\n",
    "            optimizer.step()\n",
    "            optimizer.zero_grad()\n",
    "        # Validation phase\n",
    "        result = evaluate(model, val_loader)\n",
    "        result['train_loss'] = torch.stack(train_losses).mean().item()\n",
    "        model.epoch_end(epoch, result)\n",
    "        history.append(result)\n",
    "    return history"
   ]
  },
  {
   "cell_type": "markdown",
   "metadata": {},
   "source": [
    "Before we begin training, let's instantiate the model once again and see how it performs on the validation set with the initial set of parameters."
   ]
  },
  {
   "cell_type": "code",
   "execution_count": 38,
   "metadata": {},
   "outputs": [],
   "source": [
    "model = to_device(Cifar10CnnModel(), device)"
   ]
  },
  {
   "cell_type": "code",
   "execution_count": 39,
   "metadata": {},
   "outputs": [
    {
     "data": {
      "text/plain": [
       "{'val_loss': 2.303300619125366, 'val_acc': 0.10703124850988388}"
      ]
     },
     "execution_count": 39,
     "metadata": {},
     "output_type": "execute_result"
    }
   ],
   "source": [
    "evaluate(model, val_dl)"
   ]
  },
  {
   "cell_type": "code",
   "execution_count": 40,
   "metadata": {},
   "outputs": [],
   "source": [
    "num_epochs = 10\n",
    "opt_func = torch.optim.Adam\n",
    "lr = 100"
   ]
  },
  {
   "cell_type": "code",
   "execution_count": 41,
   "metadata": {},
   "outputs": [
    {
     "name": "stdout",
     "output_type": "stream",
     "text": [
      "[jovian] Hyperparams logged.\u001b[0m\n"
     ]
    }
   ],
   "source": [
    "jovian.reset()\n",
    "jovian.log_hyperparams({\n",
    "    'num_epochs': num_epochs,\n",
    "    'opt_func': opt_func.__name__,\n",
    "    'batch_size': batch_size,\n",
    "    'lr': lr,\n",
    "})"
   ]
  },
  {
   "cell_type": "code",
   "execution_count": 42,
   "metadata": {},
   "outputs": [
    {
     "name": "stdout",
     "output_type": "stream",
     "text": [
      "Epoch [0], train_loss: nan, val_loss: nan, val_acc: 0.1156\n",
      "Epoch [1], train_loss: nan, val_loss: nan, val_acc: 0.1156\n",
      "Epoch [2], train_loss: nan, val_loss: nan, val_acc: 0.1156\n",
      "Epoch [3], train_loss: nan, val_loss: nan, val_acc: 0.1156\n",
      "Epoch [4], train_loss: nan, val_loss: nan, val_acc: 0.1156\n",
      "Epoch [5], train_loss: nan, val_loss: nan, val_acc: 0.1156\n",
      "Epoch [6], train_loss: nan, val_loss: nan, val_acc: 0.1156\n",
      "Epoch [7], train_loss: nan, val_loss: nan, val_acc: 0.1156\n",
      "Epoch [8], train_loss: nan, val_loss: nan, val_acc: 0.1156\n",
      "Epoch [9], train_loss: nan, val_loss: nan, val_acc: 0.1156\n"
     ]
    }
   ],
   "source": [
    "history = fit(num_epochs, lr, model, train_dl, val_dl, opt_func)"
   ]
  },
  {
   "cell_type": "code",
   "execution_count": 43,
   "metadata": {},
   "outputs": [
    {
     "name": "stdout",
     "output_type": "stream",
     "text": [
      "[jovian] Metrics logged.\u001b[0m\n"
     ]
    }
   ],
   "source": [
    "jovian.log_metrics(train_loss=history[-1]['train_loss'], \n",
    "                   val_loss=history[-1]['val_loss'], \n",
    "                   val_acc=history[-1]['val_acc'])"
   ]
  },
  {
   "cell_type": "code",
   "execution_count": 44,
   "metadata": {},
   "outputs": [],
   "source": [
    "def plot_accuracies(history):\n",
    "    accuracies = [x['val_acc'] for x in history]\n",
    "    plt.plot(accuracies, '-x')\n",
    "    plt.xlabel('epoch')\n",
    "    plt.ylabel('accuracy')\n",
    "    plt.title('Accuracy vs. No. of epochs');"
   ]
  },
  {
   "cell_type": "code",
   "execution_count": 45,
   "metadata": {},
   "outputs": [
    {
     "data": {
      "image/png": "[encoded data removed]",
      "text/plain": [
       "<Figure size 432x288 with 1 Axes>"
      ]
     },
     "metadata": {
      "needs_background": "light"
     },
     "output_type": "display_data"
    }
   ],
   "source": [
    "plot_accuracies(history)"
   ]
  },
  {
   "cell_type": "code",
   "execution_count": 46,
   "metadata": {},
   "outputs": [],
   "source": [
    "def plot_losses(history):\n",
    "    train_losses = [x.get('train_loss') for x in history]\n",
    "    val_losses = [x['val_loss'] for x in history]\n",
    "    plt.plot(train_losses, '-bx')\n",
    "    plt.plot(val_losses, '-rx')\n",
    "    plt.xlabel('epoch')\n",
    "    plt.ylabel('loss')\n",
    "    plt.legend(['Training', 'Validation'])\n",
    "    plt.title('Loss vs. No. of epochs');"
   ]
  },
  {
   "cell_type": "code",
   "execution_count": 47,
   "metadata": {},
   "outputs": [
    {
     "data": {
      "image/png": "[encoded data removed]",
      "text/plain": [
       "<Figure size 432x288 with 1 Axes>"
      ]
     },
     "metadata": {
      "needs_background": "light"
     },
     "output_type": "display_data"
    }
   ],
   "source": [
    "plot_losses(history)"
   ]
  },
  {
   "cell_type": "code",
   "execution_count": 48,
   "metadata": {},
   "outputs": [
    {
     "data": {
      "application/javascript": [
       "window.require && require([\"base/js/namespace\"],function(Jupyter){Jupyter.notebook.save_checkpoint()})"
      ],
      "text/plain": [
       "<IPython.core.display.Javascript object>"
      ]
     },
     "metadata": {},
     "output_type": "display_data"
    },
    {
     "name": "stdout",
     "output_type": "stream",
     "text": [
      "[jovian] Attempting to save notebook..\u001b[0m\n",
      "[jovian] Detected Kaggle notebook...\u001b[0m\n",
      "[jovian] Uploading notebook to https://jovian.ai/prajwal-creator/avengers\u001b[0m\n"
     ]
    },
    {
     "data": {
      "application/javascript": [
       "\n",
       "    require([\"base/js/namespace\"],function(Jupyter) {\n",
       "        var nbJson = JSON.stringify(Jupyter.notebook.toJSON());\n",
       "\n",
       "        console.log(\"[jovian] Extracted notebook JSON:\");\n",
       "        console.log(nbJson);\n",
       "\n",
       "        function jvnLog (data) {\n",
       "          console.log(\"Result from jovian.commit:\");\n",
       "          if (data.content.text) {\n",
       "              var result = JSON.parse(data.content.text.trim());\n",
       "              var msg = result['msg'];\n",
       "              var err = result['err'];\n",
       "              if (msg) {\n",
       "                  element.text(\"Committed successfully: \" + msg)\n",
       "              } else {\n",
       "                  alert(\"Notebook commit failed. Error: \" + (err || \"Unknown\"))\n",
       "              }\n",
       "          }\n",
       "          \n",
       "        };\n",
       "        \n",
       "        var pythonCode = `\n",
       "from contextlib import redirect_stdout, redirect_stderr\n",
       "from io import StringIO\n",
       "import json\n",
       " \n",
       "with open(\"avengers.ipynb\", 'w') as f:\n",
       "    f.write(r\"\"\"${nbJson}\"\"\")\n",
       "\n",
       "jvn_update = StringIO()\n",
       "jvn_update_err = StringIO()\n",
       "with redirect_stdout(jvn_update), redirect_stderr(jvn_update_err):\n",
       "    from jovian import commit\n",
       "\n",
       "jvn_f_out = StringIO()\n",
       "jvn_f_err = StringIO()\n",
       "with redirect_stdout(jvn_f_out), redirect_stderr(jvn_f_err):\n",
       "    jvn_msg = jovian.commit(message=None, files=[], outputs=[], environment='auto', privacy='auto', filename='avengers.ipynb', project='avengers', new_project=None)\n",
       "\n",
       "print(json.dumps({'msg': jvn_msg, 'err': jvn_f_err.getvalue(), 'update': jvn_update.getvalue()}))\n",
       "        `;\n",
       "\n",
       "        console.log(\"Invoking jovian.commit\")\n",
       "        // console.log(pythonCode)\n",
       "\n",
       "        Jupyter.notebook.kernel.execute(pythonCode, { iopub: { output: jvnLog }});\n",
       "    });"
      ],
      "text/plain": [
       "<IPython.core.display.Javascript object>"
      ]
     },
     "metadata": {},
     "output_type": "display_data"
    }
   ],
   "source": [
    "jovian.commit(project='avengers')"
   ]
  },
  {
   "cell_type": "markdown",
   "metadata": {},
   "source": [
    "When you try different experiments (by chaging the learning rate, batch size, optimizer etc.) and record hyperparameters and metrics with each version of your notebook, you can use the [**Compare**](https://jovian.ml/aakashns/05-cifar10-cnn/compare) view on the project page to analyze which approaches are working well and which ones aren't. You sort/filter by accuracy, loss etc., add notes for each version and even invite collaborators to contribute to your project with their own experiments.\n",
    "\n",
    "<a href=\"https://jovian.ml/aakashns/05-cifar10-cnn\"><img src=\"https://i.imgur.com/p1Z3vgN.png\"></a>"
   ]
  },
  {
   "cell_type": "markdown",
   "metadata": {},
   "source": [
    "## Testing with individual images\n",
    "\n",
    "While we have been tracking the overall accuracy of a model so far, it's also a good idea to look at model's results on some sample images. Let's test out our model with some images from the predefined test dataset of 10000 images. We begin by creating a test dataset using the `ImageFolder` class.\n",
    "\n"
   ]
  },
  {
   "cell_type": "code",
   "execution_count": 49,
   "metadata": {},
   "outputs": [],
   "source": [
    "test_dataset = ImageFolder(data_dir+'/test', transform=ToTensor())"
   ]
  },
  {
   "cell_type": "markdown",
   "metadata": {},
   "source": [
    "Let's define a helper function `predict_image`, which returns the predicted label for a single image tensor."
   ]
  },
  {
   "cell_type": "code",
   "execution_count": 50,
   "metadata": {},
   "outputs": [],
   "source": [
    "def predict_image(img, model):\n",
    "    # Convert to a batch of 1\n",
    "    xb = to_device(img.unsqueeze(0), device)\n",
    "    # Get predictions from model\n",
    "    yb = model(xb)\n",
    "    # Pick index with highest probability\n",
    "    _, preds  = torch.max(yb, dim=1)\n",
    "    # Retrieve the class label\n",
    "    return dataset.classes[preds[0].item()]"
   ]
  },
  {
   "cell_type": "code",
   "execution_count": 51,
   "metadata": {},
   "outputs": [
    {
     "name": "stdout",
     "output_type": "stream",
     "text": [
      "Label: antman , Predicted: antman\n"
     ]
    },
    {
     "data": {
      "image/png": "[encoded data removed]",
      "text/plain": [
       "<Figure size 432x288 with 1 Axes>"
      ]
     },
     "metadata": {
      "needs_background": "light"
     },
     "output_type": "display_data"
    }
   ],
   "source": [
    "img, label = test_dataset[0]\n",
    "plt.imshow(img.permute(1, 2, 0))\n",
    "print('Label:', dataset.classes[label], ', Predicted:', predict_image(img, model))"
   ]
  },
  {
   "cell_type": "code",
   "execution_count": 57,
   "metadata": {},
   "outputs": [
    {
     "name": "stdout",
     "output_type": "stream",
     "text": [
      "Label: blackpanther , Predicted: antman\n"
     ]
    },
    {
     "data": {
      "image/png": "[encoded data removed]",
      "text/plain": [
       "<Figure size 432x288 with 1 Axes>"
      ]
     },
     "metadata": {
      "needs_background": "light"
     },
     "output_type": "display_data"
    }
   ],
   "source": [
    "img, label = test_dataset[65]\n",
    "plt.imshow(img.permute(1, 2, 0))\n",
    "print('Label:', dataset.classes[label], ', Predicted:', predict_image(img, model))"
   ]
  },
  {
   "cell_type": "code",
   "execution_count": 61,
   "metadata": {},
   "outputs": [
    {
     "name": "stdout",
     "output_type": "stream",
     "text": [
      "Label: antman , Predicted: antman\n"
     ]
    },
    {
     "data": {
      "image/png": "[encoded data removed]",
      "text/plain": [
       "<Figure size 432x288 with 1 Axes>"
      ]
     },
     "metadata": {
      "needs_background": "light"
     },
     "output_type": "display_data"
    }
   ],
   "source": [
    "img, label = test_dataset[24]\n",
    "plt.imshow(img.permute(1, 2, 0))\n",
    "print('Label:', dataset.classes[label], ', Predicted:', predict_image(img, model))"
   ]
  },
  {
   "cell_type": "markdown",
   "metadata": {},
   "source": [
    "Identifying where our model performs poorly can help us improve the model, by collecting more training data, increasing/decreasing the complexity of the model, and changing the hypeparameters.\n",
    "\n",
    "As a final step, let's also look at the overall loss and accuracy of the model on the test set, and record using `jovian`. We expect these values to be similar to those for the validation set. If not, we might need a better validation set that has similar data and distribution as the test set (which often comes from real world data)."
   ]
  },
  {
   "cell_type": "code",
   "execution_count": 62,
   "metadata": {},
   "outputs": [
    {
     "data": {
      "text/plain": [
       "{'val_loss': nan, 'val_acc': 0.09765625}"
      ]
     },
     "execution_count": 62,
     "metadata": {},
     "output_type": "execute_result"
    }
   ],
   "source": [
    "test_loader = DeviceDataLoader(DataLoader(test_dataset, batch_size*2), device)\n",
    "result = evaluate(model, test_loader)\n",
    "result"
   ]
  },
  {
   "cell_type": "code",
   "execution_count": 63,
   "metadata": {},
   "outputs": [
    {
     "name": "stdout",
     "output_type": "stream",
     "text": [
      "[jovian] Metrics logged.\u001b[0m\n"
     ]
    }
   ],
   "source": [
    "jovian.log_metrics(test_loss=result['val_loss'], test_acc=result['val_acc'])"
   ]
  },
  {
   "cell_type": "markdown",
   "metadata": {},
   "source": [
    "## Saving and loading the model\n",
    "\n",
    "Since we've trained our model for a long time and achieved a resonable accuracy, it would be a good idea to save the weights of the model to disk, so that we can reuse the model later and avoid retraining from scratch. Here's how you can save the model."
   ]
  },
  {
   "cell_type": "code",
   "execution_count": 64,
   "metadata": {},
   "outputs": [],
   "source": [
    "torch.save(model.state_dict(), 'cifar10-cnn.pth')"
   ]
  },
  {
   "cell_type": "markdown",
   "metadata": {},
   "source": [
    "The `.state_dict` method returns an `OrderedDict` containing all the weights and bias matrices mapped to the right attributes of the model. To load the model weights, we can redefine the model with the same structure, and use the `.load_state_dict` method."
   ]
  },
  {
   "cell_type": "code",
   "execution_count": 65,
   "metadata": {},
   "outputs": [],
   "source": [
    "model2 = to_device(Cifar10CnnModel(), device)"
   ]
  },
  {
   "cell_type": "code",
   "execution_count": 66,
   "metadata": {},
   "outputs": [
    {
     "data": {
      "text/plain": [
       "<All keys matched successfully>"
      ]
     },
     "execution_count": 66,
     "metadata": {},
     "output_type": "execute_result"
    }
   ],
   "source": [
    "model2.load_state_dict(torch.load('cifar10-cnn.pth'))"
   ]
  },
  {
   "cell_type": "markdown",
   "metadata": {},
   "source": [
    "Just as a sanity check, let's verify that this model has the same loss and accuracy on the test set as before."
   ]
  },
  {
   "cell_type": "code",
   "execution_count": 67,
   "metadata": {},
   "outputs": [
    {
     "data": {
      "text/plain": [
       "{'val_loss': nan, 'val_acc': 0.09765625}"
      ]
     },
     "execution_count": 67,
     "metadata": {},
     "output_type": "execute_result"
    }
   ],
   "source": [
    "evaluate(model2, test_loader)"
   ]
  },
  {
   "cell_type": "markdown",
   "metadata": {},
   "source": [
    "Let's make one final commit using `jovian`."
   ]
  },
  {
   "cell_type": "code",
   "execution_count": 70,
   "metadata": {},
   "outputs": [
    {
     "data": {
      "application/javascript": [
       "window.require && require([\"base/js/namespace\"],function(Jupyter){Jupyter.notebook.save_checkpoint()})"
      ],
      "text/plain": [
       "<IPython.core.display.Javascript object>"
      ]
     },
     "metadata": {},
     "output_type": "display_data"
    },
    {
     "name": "stdout",
     "output_type": "stream",
     "text": [
      "[jovian] Attempting to save notebook..\u001b[0m\n",
      "[jovian] Detected Kaggle notebook...\u001b[0m\n",
      "[jovian] Uploading notebook to https://jovian.ai/prajwal-creator/avengers\u001b[0m\n"
     ]
    },
    {
     "data": {
      "application/javascript": [
       "\n",
       "    require([\"base/js/namespace\"],function(Jupyter) {\n",
       "        var nbJson = JSON.stringify(Jupyter.notebook.toJSON());\n",
       "\n",
       "        console.log(\"[jovian] Extracted notebook JSON:\");\n",
       "        console.log(nbJson);\n",
       "\n",
       "        function jvnLog (data) {\n",
       "          console.log(\"Result from jovian.commit:\");\n",
       "          if (data.content.text) {\n",
       "              var result = JSON.parse(data.content.text.trim());\n",
       "              var msg = result['msg'];\n",
       "              var err = result['err'];\n",
       "              if (msg) {\n",
       "                  element.text(\"Committed successfully: \" + msg)\n",
       "              } else {\n",
       "                  alert(\"Notebook commit failed. Error: \" + (err || \"Unknown\"))\n",
       "              }\n",
       "          }\n",
       "          \n",
       "        };\n",
       "        \n",
       "        var pythonCode = `\n",
       "from contextlib import redirect_stdout, redirect_stderr\n",
       "from io import StringIO\n",
       "import json\n",
       " \n",
       "with open(\"avengers.ipynb\", 'w') as f:\n",
       "    f.write(r\"\"\"${nbJson}\"\"\")\n",
       "\n",
       "jvn_update = StringIO()\n",
       "jvn_update_err = StringIO()\n",
       "with redirect_stdout(jvn_update), redirect_stderr(jvn_update_err):\n",
       "    from jovian import commit\n",
       "\n",
       "jvn_f_out = StringIO()\n",
       "jvn_f_err = StringIO()\n",
       "with redirect_stdout(jvn_f_out), redirect_stderr(jvn_f_err):\n",
       "    jvn_msg = jovian.commit(message=None, files=[], outputs=[], environment='auto', privacy='auto', filename='avengers.ipynb', project='avengers', new_project=None)\n",
       "\n",
       "print(json.dumps({'msg': jvn_msg, 'err': jvn_f_err.getvalue(), 'update': jvn_update.getvalue()}))\n",
       "        `;\n",
       "\n",
       "        console.log(\"Invoking jovian.commit\")\n",
       "        // console.log(pythonCode)\n",
       "\n",
       "        Jupyter.notebook.kernel.execute(pythonCode, { iopub: { output: jvnLog }});\n",
       "    });"
      ],
      "text/plain": [
       "<IPython.core.display.Javascript object>"
      ]
     },
     "metadata": {},
     "output_type": "display_data"
    }
   ],
   "source": [
    "jovian.commit(project='avengers')"
   ]
  },
  {
   "cell_type": "markdown",
   "metadata": {},
   "source": [
    "Check out the **Files** tab on the project page to view or download the trained model weights. You can also download all the files together using the *Download Zip* option in the *Clone* dropdown.\n",
    "\n",
    "Data science work is often fragmented across many different platforms (Git for code, Dropbox/S3 for datasets & artifacts, spreadsheets for hyperparameters, metrics etc.) which can make it difficult to share and reproduce experiments. Jovian.ml solves this by capturing everyting related to a data science project on a single platform, while providing a seamless workflow for capturing, sharing and reproducting your work. To learn what you can do with Jovian.ml, check out the docs: [https://docs.jovian.ml](https://docs.jovian.ml)."
   ]
  },
  {
   "cell_type": "markdown",
   "metadata": {},
   "source": [
    "## Summary and Further Reading/Exercises\n",
    "\n",
    "We've covered a lot of ground in this tutorial. Here's quick recap of the topics:\n",
    "* Introduction to the CIFAR10 dataset for image classification\n",
    "* Downloading, extracing and loading an image dataset using `torchvision`\n",
    "* Show random batches of images in a grid using `torchvision.utils.make_grid`\n",
    "* Creating a convolutional neural network using with `nn.Conv2d` and `nn.MaxPool2d` layers\n",
    "* Capturing dataset information, metrics and hyperparameters using the `jovian` library\n",
    "* Training a convolutional neural network and visualizing the losses and errors\n",
    "* Understanding overfitting and the strategies for avoiding it (more on this later)\n",
    "* Generating predictions on single images from the test set\n",
    "* Saving and loading the model weights, and attaching them to the eperiment snaptshot using `jovian`\n",
    "\n",
    "There's a lot of scope to experiment here, and I encourage you to use the interactive nature of Jupyter to play around with the various parameters. Here are a few ideas:\n",
    "* Try chaging the hyperparameters to achieve a higher accuracy within fewer epochs. You use the comparison table on the Jovian.ml project page to compare your experiments.\n",
    "* Try adding more convolutional layers, or increasing the number of channels in each convolutional layer\n",
    "* Try using a feedforward neural network and see what's the maximum accuracy you can achieve\n",
    "* Read about some of the startegies mentioned above for reducing overfitting and achieving better results, and try to implement them by looking into the PyTorch docs.\n",
    "* Modify this notebook to train a model for a different dataset (e.g. CIFAR100 or ImageNet)\n",
    "\n",
    "In the next tutorial, we will continue to improve our model's accuracy using techniques like data augmentation, batch normalization and dropout. We will also learn about residual networks (or ResNets), a small but critical change to the model architecture that will significantly boost the performance of our model. Stay tuned!"
   ]
  },
  {
   "cell_type": "code",
   "execution_count": null,
   "metadata": {},
   "outputs": [],
   "source": []
  }
 ],
 "metadata": {
  "language_info": {
   "codemirror_mode": {
    "name": "ipython",
    "version": 3
   },
   "file_extension": ".py",
   "mimetype": "text/x-python",
   "name": "python",
   "nbconvert_exporter": "python",
   "pygments_lexer": "ipython3",
   "version": "3.7.9"
  }
 },
 "nbformat": 4,
 "nbformat_minor": 4
}